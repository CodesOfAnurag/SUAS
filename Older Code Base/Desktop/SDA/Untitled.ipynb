{
 "cells": [
  {
   "cell_type": "code",
   "execution_count": 14,
   "metadata": {
    "collapsed": false
   },
   "outputs": [],
   "source": [
    "import random\n",
    "import numpy as np"
   ]
  },
  {
   "cell_type": "code",
   "execution_count": 42,
   "metadata": {
    "collapsed": false
   },
   "outputs": [],
   "source": [
    "GPSO(initialPosition,swarmSize,maxIter,initialInertia,socialFactor,globalFactor,maxSpeedGBest,maxSpeedNeighbours,learningRate,deltaTime,maximise,objectiveFunction,plotGraph,destination,obstacles):\n",
    "    \n",
    "    swarmPositions=np.random.random((3,3))\n",
    "    swarmVelocities=np.zeros((3,3))\n",
    "    gBest=1;\n",
    "\n",
    "    swarmValues=objectivefunction(swarmPositions[:,:])\n",
    "    localBestPositions=swarmPositions\n",
    "    localBestValues=objectivefunction(swarmPositions)\n",
    "    gBestPosition=localBestPositions[:,gBest]\n",
    "    for iter in range(1,maxIter):\n",
    "        inertia = initialInertia*(1-exp(-swarmValues(gBest)/(10**2)));\n",
    "        swarmPositions=swarmPositions+swarmVelocities*deltaTime;\n",
    "        swarmValues=objectiveFunction(swarmPositions[:,:]);"
   ]
  },
  {
   "cell_type": "code",
   "execution_count": null,
   "metadata": {
    "collapsed": false
   },
   "outputs": [],
   "source": [
    "        for j in range(1,swarmSize):\n",
    "        \n",
    "            if (((swarmValues[j]<localBestValues[j]) and (maximise==True)) or ((swarmValues[j]>localBestValues[j]) and (maximise==False))):\n",
    "                localBestValues[j]=swarmValues[j]\n",
    "                localBestPositions[:,j]=swarmPositions[:,j]\n",
    "            if (((swarmValues[j]<swarmValues[gBest]) and (maximise==True)) or ((swarmValues(j)>swarmValues(gBest)) and (maximise==false))\n",
    "                gBest=j;\n",
    "                gBestPosition=localBestPositions(:,j);\n",
    "        gBestPositions[:,iter]=gBestPosition\n",
    "        for j in range(1,swarmSize): \n",
    "              swarmVelocities[:,j]=inertia*(rand(size(initialPosition,1),1).*swarmVelocities[:,j]) + (socialFactor/deltaTime)*(rand(size(initialPosition,1),1).*(localBestPositions[:,j]- swarmPositions[:,j])) + (globalFactor/deltaTime)*(rand(size(initialPosition,1),1).*(gBestPosition[:,:] - swarmPositions[:,j])) -learningRate *grad(objectiveFunction,swarmPositions[:,j]);   \n",
    "               \n",
    "    \n",
    "    for j in range [1,swarmSize]:   \n",
    "        if swarmVelocities[:,j]:#'*swarmVelocities(:,j)!=0\n",
    "            if j==gBest:\n",
    "                if swarmVelocities[:,j]#'*swarmVelocities(:,j) >= maxSpeedGBest*maxSpeedGBest && maxSpeedGBest!=0:\n",
    "                    swarmVelocities[:,j]/=sqrt(swarmVelocities[:,j]#'*swarmVelocities(:,j));\n",
    "                    swarmVelocities[:,j]*=maxSpeedGBest\n",
    "            \n",
    "        else:\n",
    "            if swarmVelocities[:,j]#'*swarmVelocities(:,j) >= maxSpeedNeighbours*maxSpeedNeighbours && maxSpeedNeighbours!=0:\n",
    "                swarmVelocities[:,j]/=sqrt(swarmVelocities[:,j]#'*swarmVelocities(:,j));\n",
    "                swarmVelocities[:,j]*=maxSpeedNeighbours\n",
    "    Jvalues(iter)=swarmValues(gBest)\n",
    "    optima = gBestPosition;"
   ]
  },
  {
   "cell_type": "code",
   "execution_count": null,
   "metadata": {
    "collapsed": false
   },
   "outputs": [],
   "source": []
  },
  {
   "cell_type": "code",
   "execution_count": null,
   "metadata": {
    "collapsed": true
   },
   "outputs": [],
   "source": []
  }
 ],
 "metadata": {
  "kernelspec": {
   "display_name": "Python 2",
   "language": "python",
   "name": "python2"
  },
  "language_info": {
   "codemirror_mode": {
    "name": "ipython",
    "version": 2
   },
   "file_extension": ".py",
   "mimetype": "text/x-python",
   "name": "python",
   "nbconvert_exporter": "python",
   "pygments_lexer": "ipython2",
   "version": "2.7.12"
  }
 },
 "nbformat": 4,
 "nbformat_minor": 2
}
