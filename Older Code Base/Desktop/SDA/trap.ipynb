{
 "cells": [
  {
   "cell_type": "code",
   "execution_count": 163,
   "metadata": {
    "collapsed": true,
    "deletable": true,
    "editable": true
   },
   "outputs": [],
   "source": [
    "import numpy as np\n",
    "import math"
   ]
  },
  {
   "cell_type": "code",
   "execution_count": 3,
   "metadata": {
    "collapsed": false,
    "deletable": true,
    "editable": true
   },
   "outputs": [],
   "source": [
    "\n",
    "swarmSize=64                       # number of the swarm particles\n",
    "maxIter=100                        # maximum number of iterations\n",
    "deltaTime=0.01\n",
    "inertia=1.61803398875\n",
    "socialFactor=1.61803398875*(deltaTime/0.01)\n",
    "globalFactor=1.61803398875*(deltaTime/0.01)\n",
    "learningRate=1.61803398875\n",
    "\n",
    "initialPosition = np.array([100,-100])\n",
    "destination=np.array([150,400])\n",
    "obstacles=np.array([[95,155,330,200],[120,120,130,300],[60,60,40,40]])\n",
    "    "
   ]
  },
  {
   "cell_type": "code",
   "execution_count": 93,
   "metadata": {
    "collapsed": false,
    "deletable": true,
    "editable": true
   },
   "outputs": [],
   "source": [
    "def objectivefunction(x):\n",
    "    return (0.5*(sum((x-destination)**2,1)) + 40000/(1+((sum((x-obstacles[0:2,0])**2,1)/(obstacles[2,0]**2)))**10)+ 40000/(1+((sum((x-obstacles[0:2,1])**2,1)/(obstacles[2,1]**2)))**10)+ 40000/(1+((sum((x-obstacles[0:2,2])**2,1)/(obstacles[2,2]**2)))**10)+ 40000/(1+((sum((x-obstacles[0:2,3])**2,1)/(obstacles[2,3]**2)))**10))"
   ]
  },
  {
   "cell_type": "code",
   "execution_count": 151,
   "metadata": {
    "collapsed": false,
    "deletable": true,
    "editable": true
   },
   "outputs": [
    {
     "name": "stdout",
     "output_type": "stream",
     "text": [
      "[[ 100.77985321  -99.50565818]\n",
      " [ 100.34921738  -99.23510252]\n",
      " [ 100.6796549   -99.29935679]\n",
      " [ 100.30124778  -99.98814918]\n",
      " [ 100.03362694  -99.34937522]\n",
      " [ 100.72356749  -99.23377051]\n",
      " [ 100.45330556  -99.9949793 ]\n",
      " [ 100.20148533  -99.85045904]\n",
      " [ 100.06800246  -99.38654665]\n",
      " [ 100.88080756  -99.85636724]\n",
      " [ 100.70208736  -99.85240906]\n",
      " [ 100.32647847  -99.93709535]\n",
      " [ 100.2781627   -99.52119189]\n",
      " [ 100.89200222  -99.33037703]\n",
      " [ 100.59470154  -99.21945372]\n",
      " [ 100.28442706  -99.29513355]\n",
      " [ 100.15244507  -99.93477993]\n",
      " [ 100.04323927  -99.749678