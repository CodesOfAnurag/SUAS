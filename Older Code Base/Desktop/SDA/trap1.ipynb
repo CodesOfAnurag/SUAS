{
 "cells": [
  {
   "cell_type": "code",
   "execution_count": 163,
   "metadata": {
    "collapsed": true,
    "deletable": true,
    "editable": true
   },
   "outputs": [],
   "source": [
    "import numpy as np\n",
    "import math"
   ]
  },
  {
   "cell_type": "code",
   "execution_count": 3,
   "metadata": {
    "collapsed": false,
    "deletable": true,
    "editable": true
   },
   "outputs": [],
   "source": [
    "\n",
    "swarmSize=64                       # number of the swarm particles\n",
    "maxIter=100                        # maximum number of iterations\n",
    "deltaTime=0.01\n",
    "inertia=1.61803398875\n",
    "socialFactor=1.61803398875*(deltaTime/0.01)\n",
    "globalFactor=1.61803398875*(deltaTime/0.01)\n",
    "learningRate=1.61803398875\n",
    "\n",
    "initialPosition = np.array([100,-100])\n",
    "destination=np.array([150,400])\n",
    "obstacles=np.array([[95,155,330,200],[120,120,130,300],[60,60,40,40]])\n",
    "    "
   ]
  },
  {
   "cell_type": "code",
   "execution_count": 93,
   "metadata": {
    "collapsed": false,
    "deletable": true,
    "editable": true
   },
   "outputs": [],
   "source": [
    "def objectivefunction(x):\n",
    "    return (0.5*(sum((x-destination)**2,1)) + 40000/(1+((sum((x-obstacles[0:2,0])**2,1)/(obstacles[2,0]**2)))**10)+ 40000/(1+((sum((x-obstacles[0:2,1])**2,1)/(obstacles[2,1]**2)))**10)+ 40000/(1+((sum((x-obstacles[0:2,2])**2,1)/(obstacles[2,2]**2)))**10)+ 40000/(1+((sum((x-obstacles[0:2,3])**2,1)/(obstacles[2,3]**2)))**10))"
   ]
  },
  {
   "cell_type": "code",
   "execution_count": 151,
   "metadata": {
    "collapsed": false,
    "deletable": true,
    "editable": true
   },
   "outputs": [
    {
     "name": "stdout",
     "output_type": "stream",
     "text": [
      "[[ 100.77985321  -99.50565818]\n",
      " [ 100.34921738  -99.23510252]\n",
      " [ 100.6796549   -99.29935679]\n",
      " [ 100.30124778  -99.98814918]\n",
      " [ 100.03362694  -99.34937522]\n",
      " [ 100.72356749  -99.23377051]\n",
      " [ 100.45330556  -99.9949793 ]\n",
      " [ 100.20148533  -99.85045904]\n",
      " [ 100.06800246  -99.38654665]\n",
      " [ 100.88080756  -99.85636724]\n",
      " [ 100.70208736  -99.85240906]\n",
      " [ 100.32647847  -99.93709535]\n",
      " [ 100.2781627   -99.52119189]\n",
      " [ 100.89200222  -99.33037703]\n",
      " [ 100.59470154  -99.21945372]\n",
      " [ 100.28442706  -99.29513355]\n",
      " [ 100.15244507  -99.93477993]\n",
      " [ 100.04323927  -99.74967831]\n",
      " [ 100.05280909  -99.86179339]\n",
      " [ 100.08598833  -99.11356829]\n",
      " [ 100.8726745   -99.15857355]\n",
      " [ 100.77748279  -99.93908794]\n",
      " [ 100.13695922  -99.86210505]\n",
      " [ 100.17616175  -99.39031194]\n",
      " [ 100.74257341  -99.76972848]\n",
      " [ 100.63013868  -99.07741353]\n",
      " [ 100.22843831  -99.00311556]\n",
      " [ 100.47383138  -99.17404112]\n",
      " [ 100.36254771  -99.68445513]\n",
      " [ 100.63283113  -99.67593051]\n",
      " [ 100.53410503  -99.38825487]\n",
      " [ 100.73440367  -99.55931362]\n",
      " [ 100.7403792   -99.40382072]\n",
      " [ 100.66012602  -99.39325404]\n",
      " [ 100.92324889  -99.15040544]\n",
      " [ 100.06470108  -99.7936129 ]\n",
      " [ 100.8667897   -99.38507816]\n",
      " [ 100.88978976  -99.26044222]\n",
      " [ 100.35039839  -99.63214432]\n",
      " [ 100.16515986  -99.30536878]\n",
      " [ 100.7998415   -99.20551806]\n",
      " [ 100.98699922  -99.67597091]\n",
      " [ 100.16188199  -99.41492189]\n",
      " [ 100.29757098  -99.87436444]\n",
      " [ 100.68103697  -99.1929092 ]\n",
      " [ 100.09411657  -99.19945888]\n",
      " [ 100.90352215  -99.05262743]\n",
      " [ 100.68210736  -99.75949011]\n",
      " [ 100.43312876  -99.84861275]\n",
      " [ 100.58252735  -99.3986896 ]\n",
      " [ 100.19861316  -99.60406549]\n",
      " [ 100.72671103  -99.63216543]\n",
      " [ 100.56587291  -99.71244799]\n",
      " [ 100.67381739  -99.17041384]\n",
      " [ 100.88105601  -99.7156665 ]\n",
      " [ 100.57133412  -99.23919805]\n",
      " [ 100.36666088  -99.49139179]\n",
      " [ 100.45790712  -99.63752624]\n",
      " [ 100.8692093   -99.46307673]\n",
      " [ 100.24867632  -99.44193971]\n",
      " [ 100.42469681  -99.66540765]\n",
      " [ 100.191419    -99.97324731]\n",
      " [ 100.35997596  -99.97906016]\n",
      " [ 100.86898516  -99.90684044]]\n"
     ]
    }
   ],
   "source": [
    "swarmPositions=np.random.random((swarmSize,2))+initialPosition\n",
    "print swarmPositions"
   ]
  },
  {
   "cell_type": "code",
   "execution_count": 156,
   "metadata": {
    "collapsed": false,
    "deletable": true,
    "editable": true
   },
   "outputs": [],
   "source": [
    "localBestPositions=swarmPositions;\n",
    "localBestValues=objectivefunction(swarmPositions);"
   ]
  },
  {
   "cell_type": "code",
   "execution_count": 157,
   "metadata": {
    "collapsed": false
   },
   "outputs": [],
   "source": [
    "gBestPosition=localBestPositions[1,:]"
   ]
  },
  {
   "cell_type": "code",
   "execution_count": 167,
   "metadata": {
    "collapsed": false
   },
   "outputs": [
    {
     "name": "stdout",
     "output_type": "stream",
     "text": [
      "[ 100.34921738  -99.23510252]\n"
     ]
    }
   ],
   "source": [
    "print gBestPosition\n",
    "gBest=1"
   ]
  },
  {
   "cell_type": "code",
   "execution_count": 170,
   "metadata": {
    "collapsed": false
   },
   "outputs": [
    {
     "ename": "NameError",
     "evalue": "name 'swarmVelocities' is not defined",
     "output_type": "error",
     "traceback": [
      "\u001b[0;31m---------------------------------------------------------------------------\u001b[0m",
      "\u001b[0;31mNameError\u001b[0m                                 Traceback (most recent call last)",
      "\u001b[0;32m<ipython-input-170-b306c77d6c0d>\u001b[0m in \u001b[0;36m<module>\u001b[0;34m()\u001b[0m\n\u001b[1;32m      1\u001b[0m \u001b[0;32mfor\u001b[0m \u001b[0miter\u001b[0m \u001b[0;32min\u001b[0m \u001b[0mrange\u001b[0m\u001b[0;34m(\u001b[0m\u001b[0;36m1\u001b[0m\u001b[0;34m,\u001b[0m\u001b[0mmaxIter\u001b[0m\u001b[0;34m)\u001b[0m\u001b[0;34m:\u001b[0m\u001b[0;34m\u001b[0m\u001b[0m\n\u001b[1;32m      2\u001b[0m       \u001b[0;31m# initialinertia =inertia*(1-math.exp(-swarmValues(gBest)/(10**2)));\u001b[0m\u001b[0;34m\u001b[0m\u001b[0;34m\u001b[0m\u001b[0m\n\u001b[0;32m----> 3\u001b[0;31m        \u001b[0mswarmPositions\u001b[0m\u001b[0;34m=\u001b[0m\u001b[0mswarmPositions\u001b[0m\u001b[0;34m+\u001b[0m\u001b[0mswarmVelocities\u001b[0m\u001b[0;34m*\u001b[0m\u001b[0mdeltaTime\u001b[0m\u001b[0;34m;\u001b[0m\u001b[0;34m\u001b[0m\u001b[0m\n\u001b[0m\u001b[1;32m      4\u001b[0m        \u001b[0mswarmValues\u001b[0m\u001b[0;34m=\u001b[0m\u001b[0mobjectiveFunction\u001b[0m\u001b[0;34m(\u001b[0m\u001b[0mswarmPositions\u001b[0m\u001b[0;34m[\u001b[0m\u001b[0;34m:\u001b[0m\u001b[0;34m,\u001b[0m\u001b[0;34m:\u001b[0m\u001b[0;34m]\u001b[0m\u001b[0;34m)\u001b[0m\u001b[0;34m;\u001b[0m\u001b[0;34m\u001b[0m\u001b[0m\n",
      "\u001b[0;31mNameError\u001b[0m: name 'swarmVelocities' is not defined"
     ]
    }
   ],
   "source": [
    " for iter in range(1,maxIter):\n",
    "       # initialinertia =inertia*(1-math.exp(-swarmValues(gBest)/(10**2)));\n",
    "        swarmPositions=swarmPositions+swarmVelocities*deltaTime;\n",
    "        swarmValues=objectiveFunction(swarmPositions[:,:]);"
   ]
  },
  {
   "cell_type": "code",
   "execution_count": null,
   "metadata": {
    "collapsed": false
   },
   "outputs": [],
   "source": []
  },
  {
   "cell_type": "code",
   "execution_count": null,
   "metadata": {
    "collapsed": true
   },
   "outputs": [],
   "source": []
  }
 ],
 "metadata": {
  "kernelspec": {
   "display_name": "Python 2",
   "language": "python",
   "name": "python2"
  },
  "language_info": {
   "codemirror_mode": {
    "name": "ipython",
    "version": 2
   },
   "file_extension": ".py",
   "mimetype": "text/x-python",
   "name": "python",
   "nbconvert_exporter": "python",
   "pygments_lexer": "ipython2",
   "version": "2.7.12"
  }
 },
 "nbformat": 4,
 "nbformat_minor": 2
}
